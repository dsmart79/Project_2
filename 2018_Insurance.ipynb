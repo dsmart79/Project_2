{
 "cells": [
  {
   "cell_type": "code",
   "execution_count": 12,
   "metadata": {},
   "outputs": [],
   "source": [
    "# Imports\n",
    "import pandas as pd\n",
    "import os\n",
    "from sqlalchemy import create_engine"
   ]
  },
  {
   "cell_type": "markdown",
   "metadata": {},
   "source": [
    "## CSV to DataFrame"
   ]
  },
  {
   "cell_type": "code",
   "execution_count": 20,
   "metadata": {},
   "outputs": [],
   "source": [
    "# import health_csv \n",
    "health14_df = pd.read_csv('../Desktop/Health_Ins_2014.csv', encoding='latin-1')\n",
    "health15_df = pd.read_csv('../Desktop/Health_Ins_2015.csv')\n",
    "health16_df = pd.read_csv('../Desktop/Health_Ins_2016.csv')\n",
    "health17_df = pd.read_csv('../Desktop/Health_Ins_2017.csv')"
   ]
  },
  {
   "cell_type": "code",
   "execution_count": 21,
   "metadata": {},
   "outputs": [
    {
     "data": {
      "text/html": [
       "<div>\n",
       "<style scoped>\n",
       "    .dataframe tbody tr th:only-of-type {\n",
       "        vertical-align: middle;\n",
       "    }\n",
       "\n",
       "    .dataframe tbody tr th {\n",
       "        vertical-align: top;\n",
       "    }\n",
       "\n",
       "    .dataframe thead th {\n",
       "        text-align: right;\n",
       "    }\n",
       "</style>\n",
       "<table border=\"1\" class=\"dataframe\">\n",
       "  <thead>\n",
       "    <tr style=\"text-align: right;\">\n",
       "      <th></th>\n",
       "      <th>State</th>\n",
       "      <th>County</th>\n",
       "      <th>Metal Level</th>\n",
       "      <th>Issuer Name</th>\n",
       "      <th>Plan ID (standard component)</th>\n",
       "      <th>Plan Marketing Name</th>\n",
       "      <th>Plan Type</th>\n",
       "      <th>Rating Area</th>\n",
       "      <th>Child Only Offering</th>\n",
       "      <th>Source</th>\n",
       "      <th>...</th>\n",
       "      <th>Drug Maximum Out of Pocket - Family  - standard</th>\n",
       "      <th>Primary Care Physician  - standard</th>\n",
       "      <th>Specialist  - standard</th>\n",
       "      <th>Emergency Room  - standard</th>\n",
       "      <th>Inpatient Facility  - standard</th>\n",
       "      <th>Inpatient Physician - standard</th>\n",
       "      <th>Generic Drugs - standard</th>\n",
       "      <th>Preferred Brand Drugs - standard</th>\n",
       "      <th>Non-preferred Brand Drugs - standard</th>\n",
       "      <th>Specialty Drugs - standard</th>\n",
       "    </tr>\n",
       "  </thead>\n",
       "  <tbody>\n",
       "    <tr>\n",
       "      <th>0</th>\n",
       "      <td>AK</td>\n",
       "      <td>ALEUTIANS EAST</td>\n",
       "      <td>Gold</td>\n",
       "      <td>Premera Blue Cross Blue Shield of Alaska</td>\n",
       "      <td>38344AK0930003</td>\n",
       "      <td>Blue Cross Blue Shield Select 1000, a Multi-St...</td>\n",
       "      <td>PPO</td>\n",
       "      <td>Rating Area 2</td>\n",
       "      <td>Allows Adult and Child-Only</td>\n",
       "      <td>OPM</td>\n",
       "      <td>...</td>\n",
       "      <td>Included in Medical</td>\n",
       "      <td>$30</td>\n",
       "      <td>$30</td>\n",
       "      <td>20% Coinsurance after deductible</td>\n",
       "      <td>20% Coinsurance after deductible</td>\n",
       "      <td>20% Coinsurance after deductible</td>\n",
       "      <td>$10</td>\n",
       "      <td>$25</td>\n",
       "      <td>$45</td>\n",
       "      <td>20%</td>\n",
       "    </tr>\n",
       "    <tr>\n",
       "      <th>1</th>\n",
       "      <td>AK</td>\n",
       "      <td>ALEUTIANS EAST</td>\n",
       "      <td>Gold</td>\n",
       "      <td>Premera Blue Cross Blue Shield of Alaska</td>\n",
       "      <td>38344AK0930004</td>\n",
       "      <td>Blue Cross Blue Shield Select 1500, a Multi-St...</td>\n",
       "      <td>PPO</td>\n",
       "      <td>Rating Area 2</td>\n",
       "      <td>Allows Adult and Child-Only</td>\n",
       "      <td>OPM</td>\n",
       "      <td>...</td>\n",
       "      <td>Included in Medical</td>\n",
       "      <td>$30</td>\n",
       "      <td>$30</td>\n",
       "      <td>20% Coinsurance after deductible</td>\n",
       "      <td>20% Coinsurance after deductible</td>\n",
       "      <td>20% Coinsurance after deductible</td>\n",
       "      <td>$10</td>\n",
       "      <td>$25</td>\n",
       "      <td>$45</td>\n",
       "      <td>20%</td>\n",
       "    </tr>\n",
       "    <tr>\n",
       "      <th>2</th>\n",
       "      <td>AK</td>\n",
       "      <td>ALEUTIANS EAST</td>\n",
       "      <td>Silver</td>\n",
       "      <td>Premera Blue Cross Blue Shield of Alaska</td>\n",
       "      <td>38344AK0930005</td>\n",
       "      <td>Blue Cross Blue Shield Select 2000, a Multi-St...</td>\n",
       "      <td>PPO</td>\n",
       "      <td>Rating Area 2</td>\n",
       "      <td>Allows Adult and Child-Only</td>\n",
       "      <td>OPM</td>\n",
       "      <td>...</td>\n",
       "      <td>Included in Medical</td>\n",
       "      <td>$35</td>\n",
       "      <td>$35</td>\n",
       "      <td>20% Coinsurance after deductible</td>\n",
       "      <td>20% Coinsurance after deductible</td>\n",
       "      <td>20% Coinsurance after deductible</td>\n",
       "      <td>$15</td>\n",
       "      <td>$50</td>\n",
       "      <td>$100</td>\n",
       "      <td>30% Coinsurance after deductible</td>\n",
       "    </tr>\n",
       "    <tr>\n",
       "      <th>3</th>\n",
       "      <td>AK</td>\n",
       "      <td>ALEUTIANS EAST</td>\n",
       "      <td>Silver</td>\n",
       "      <td>Premera Blue Cross Blue Shield of Alaska</td>\n",
       "      <td>38344AK0950001</td>\n",
       "      <td>Blue Cross Blue Shield Select 1700 HSA, a Mult...</td>\n",
       "      <td>PPO</td>\n",
       "      <td>Rating Area 2</td>\n",
       "      <td>Allows Adult and Child-Only</td>\n",
       "      <td>OPM</td>\n",
       "      <td>...</td>\n",
       "      <td>Included in Medical</td>\n",
       "      <td>20% Coinsurance after deductible</td>\n",
       "      <td>20% Coinsurance after deductible</td>\n",
       "      <td>20% Coinsurance after deductible</td>\n",
       "      <td>20% Coinsurance after deductible</td>\n",
       "      <td>20% Coinsurance after deductible</td>\n",
       "      <td>20% Coinsurance after deductible</td>\n",
       "      <td>20% Coinsurance after deductible</td>\n",
       "      <td>20% Coinsurance after deductible</td>\n",
       "      <td>20% Coinsurance after deductible</td>\n",
       "    </tr>\n",
       "    <tr>\n",
       "      <th>4</th>\n",
       "      <td>AK</td>\n",
       "      <td>ALEUTIANS EAST</td>\n",
       "      <td>Bronze</td>\n",
       "      <td>Premera Blue Cross Blue Shield of Alaska</td>\n",
       "      <td>38344AK0950003</td>\n",
       "      <td>Blue Cross Blue Shield Select 3850 HSA, a Mult...</td>\n",
       "      <td>PPO</td>\n",
       "      <td>Rating Area 2</td>\n",
       "      <td>Allows Adult and Child-Only</td>\n",
       "      <td>OPM</td>\n",
       "      <td>...</td>\n",
       "      <td>Included in Medical</td>\n",
       "      <td>20% Coinsurance after deductible</td>\n",
       "      <td>20% Coinsurance after deductible</td>\n",
       "      <td>20% Coinsurance after deductible</td>\n",
       "      <td>20% Coinsurance after deductible</td>\n",
       "      <td>20% Coinsurance after deductible</td>\n",
       "      <td>20% Coinsurance after deductible</td>\n",
       "      <td>20% Coinsurance after deductible</td>\n",
       "      <td>20% Coinsurance after deductible</td>\n",
       "      <td>20% Coinsurance after deductible</td>\n",
       "    </tr>\n",
       "  </tbody>\n",
       "</table>\n",
       "<p>5 rows × 74 columns</p>\n",
       "</div>"
      ],
      "text/plain": [
       "  State          County Metal Level                               Issuer Name  \\\n",
       "0    AK  ALEUTIANS EAST        Gold  Premera Blue Cross Blue Shield of Alaska   \n",
       "1    AK  ALEUTIANS EAST        Gold  Premera Blue Cross Blue Shield of Alaska   \n",
       "2    AK  ALEUTIANS EAST      Silver  Premera Blue Cross Blue Shield of Alaska   \n",
       "3    AK  ALEUTIANS EAST      Silver  Premera Blue Cross Blue Shield of Alaska   \n",
       "4    AK  ALEUTIANS EAST      Bronze  Premera Blue Cross Blue Shield of Alaska   \n",
       "\n",
       "  Plan ID (standard component)  \\\n",
       "0               38344AK0930003   \n",
       "1               38344AK0930004   \n",
       "2               38344AK0930005   \n",
       "3               38344AK0950001   \n",
       "4               38344AK0950003   \n",
       "\n",
       "                                 Plan Marketing Name Plan Type    Rating Area  \\\n",
       "0  Blue Cross Blue Shield Select 1000, a Multi-St...       PPO  Rating Area 2   \n",
       "1  Blue Cross Blue Shield Select 1500, a Multi-St...       PPO  Rating Area 2   \n",
       "2  Blue Cross Blue Shield Select 2000, a Multi-St...       PPO  Rating Area 2   \n",
       "3  Blue Cross Blue Shield Select 1700 HSA, a Mult...       PPO  Rating Area 2   \n",
       "4  Blue Cross Blue Shield Select 3850 HSA, a Mult...       PPO  Rating Area 2   \n",
       "\n",
       "           Child Only Offering Source  ...  \\\n",
       "0  Allows Adult and Child-Only    OPM  ...   \n",
       "1  Allows Adult and Child-Only    OPM  ...   \n",
       "2  Allows Adult and Child-Only    OPM  ...   \n",
       "3  Allows Adult and Child-Only    OPM  ...   \n",
       "4  Allows Adult and Child-Only    OPM  ...   \n",
       "\n",
       "  Drug Maximum Out of Pocket - Family  - standard  \\\n",
       "0                             Included in Medical   \n",
       "1                             Included in Medical   \n",
       "2                             Included in Medical   \n",
       "3                             Included in Medical   \n",
       "4                             Included in Medical   \n",
       "\n",
       "  Primary Care Physician  - standard            Specialist  - standard  \\\n",
       "0                                $30                               $30   \n",
       "1                                $30                               $30   \n",
       "2                                $35                               $35   \n",
       "3   20% Coinsurance after deductible  20% Coinsurance after deductible   \n",
       "4   20% Coinsurance after deductible  20% Coinsurance after deductible   \n",
       "\n",
       "         Emergency Room  - standard    Inpatient Facility  - standard  \\\n",
       "0  20% Coinsurance after deductible  20% Coinsurance after deductible   \n",
       "1  20% Coinsurance after deductible  20% Coinsurance after deductible   \n",
       "2  20% Coinsurance after deductible  20% Coinsurance after deductible   \n",
       "3  20% Coinsurance after deductible  20% Coinsurance after deductible   \n",
       "4  20% Coinsurance after deductible  20% Coinsurance after deductible   \n",
       "\n",
       "     Inpatient Physician - standard          Generic Drugs - standard  \\\n",
       "0  20% Coinsurance after deductible                               $10   \n",
       "1  20% Coinsurance after deductible                               $10   \n",
       "2  20% Coinsurance after deductible                               $15   \n",
       "3  20% Coinsurance after deductible  20% Coinsurance after deductible   \n",
       "4  20% Coinsurance after deductible  20% Coinsurance after deductible   \n",
       "\n",
       "   Preferred Brand Drugs - standard Non-preferred Brand Drugs - standard  \\\n",
       "0                               $25                                  $45   \n",
       "1                               $25                                  $45   \n",
       "2                               $50                                 $100   \n",
       "3  20% Coinsurance after deductible     20% Coinsurance after deductible   \n",
       "4  20% Coinsurance after deductible     20% Coinsurance after deductible   \n",
       "\n",
       "         Specialty Drugs - standard  \n",
       "0                               20%  \n",
       "1                               20%  \n",
       "2  30% Coinsurance after deductible  \n",
       "3  20% Coinsurance after deductible  \n",
       "4  20% Coinsurance after deductible  \n",
       "\n",
       "[5 rows x 74 columns]"
      ]
     },
     "execution_count": 21,
     "metadata": {},
     "output_type": "execute_result"
    }
   ],
   "source": [
    "health14_df.head()"
   ]
  },
  {
   "cell_type": "markdown",
   "metadata": {},
   "source": [
    "## Transform"
   ]
  },
  {
   "cell_type": "code",
   "execution_count": 19,
   "metadata": {
    "scrolled": true
   },
   "outputs": [
    {
     "ename": "KeyError",
     "evalue": "\"['Plan ID (Standard Component)', 'Medical Maximum Out Of Pocket - Family (Per Person) - Standard', 'Medical Maximum Out Of Pocket - Family - Standard', 'Medical Maximum Out Of Pocket - Individual - Standard'] not in index\"",
     "output_type": "error",
     "traceback": [
      "\u001b[1;31m---------------------------------------------------------------------------\u001b[0m",
      "\u001b[1;31mKeyError\u001b[0m                                  Traceback (most recent call last)",
      "\u001b[1;32m<ipython-input-19-eda81d89f42f>\u001b[0m in \u001b[0;36m<module>\u001b[1;34m\u001b[0m\n\u001b[0;32m      2\u001b[0m \u001b[0mnew_health14_df\u001b[0m \u001b[1;33m=\u001b[0m \u001b[0mpd\u001b[0m\u001b[1;33m.\u001b[0m\u001b[0mDataFrame\u001b[0m\u001b[1;33m(\u001b[0m\u001b[0mhealth14_df\u001b[0m\u001b[1;33m)\u001b[0m\u001b[1;33m\u001b[0m\u001b[1;33m\u001b[0m\u001b[0m\n\u001b[0;32m      3\u001b[0m health14_standard = new_health14_df[ ['State', 'Plan Marketing Name', 'Plan ID (Standard Component)', 'Metal Level', 'Plan Type',  'Medical Maximum Out Of Pocket - Individual - Standard',\n\u001b[1;32m----> 4\u001b[1;33m 'Medical Maximum Out Of Pocket - Family - Standard', 'Medical Maximum Out Of Pocket - Family (Per Person) - Standard'] ].copy()\n\u001b[0m\u001b[0;32m      5\u001b[0m \u001b[1;33m\u001b[0m\u001b[0m\n\u001b[0;32m      6\u001b[0m \u001b[0mhealth_standard\u001b[0m\u001b[1;33m.\u001b[0m\u001b[0mhead\u001b[0m\u001b[1;33m(\u001b[0m\u001b[1;33m)\u001b[0m\u001b[1;33m\u001b[0m\u001b[1;33m\u001b[0m\u001b[0m\n",
      "\u001b[1;32m~\\anaconda\\Anaconda3\\envs\\PythonData\\lib\\site-packages\\pandas\\core\\frame.py\u001b[0m in \u001b[0;36m__getitem__\u001b[1;34m(self, key)\u001b[0m\n\u001b[0;32m   2932\u001b[0m                 \u001b[0mkey\u001b[0m \u001b[1;33m=\u001b[0m \u001b[0mlist\u001b[0m\u001b[1;33m(\u001b[0m\u001b[0mkey\u001b[0m\u001b[1;33m)\u001b[0m\u001b[1;33m\u001b[0m\u001b[1;33m\u001b[0m\u001b[0m\n\u001b[0;32m   2933\u001b[0m             indexer = self.loc._convert_to_indexer(key, axis=1,\n\u001b[1;32m-> 2934\u001b[1;33m                                                    raise_missing=True)\n\u001b[0m\u001b[0;32m   2935\u001b[0m \u001b[1;33m\u001b[0m\u001b[0m\n\u001b[0;32m   2936\u001b[0m         \u001b[1;31m# take() does not accept boolean indexers\u001b[0m\u001b[1;33m\u001b[0m\u001b[1;33m\u001b[0m\u001b[1;33m\u001b[0m\u001b[0m\n",
      "\u001b[1;32m~\\anaconda\\Anaconda3\\envs\\PythonData\\lib\\site-packages\\pandas\\core\\indexing.py\u001b[0m in \u001b[0;36m_convert_to_indexer\u001b[1;34m(self, obj, axis, is_setter, raise_missing)\u001b[0m\n\u001b[0;32m   1352\u001b[0m                 kwargs = {'raise_missing': True if is_setter else\n\u001b[0;32m   1353\u001b[0m                           raise_missing}\n\u001b[1;32m-> 1354\u001b[1;33m                 \u001b[1;32mreturn\u001b[0m \u001b[0mself\u001b[0m\u001b[1;33m.\u001b[0m\u001b[0m_get_listlike_indexer\u001b[0m\u001b[1;33m(\u001b[0m\u001b[0mobj\u001b[0m\u001b[1;33m,\u001b[0m \u001b[0maxis\u001b[0m\u001b[1;33m,\u001b[0m \u001b[1;33m**\u001b[0m\u001b[0mkwargs\u001b[0m\u001b[1;33m)\u001b[0m\u001b[1;33m[\u001b[0m\u001b[1;36m1\u001b[0m\u001b[1;33m]\u001b[0m\u001b[1;33m\u001b[0m\u001b[1;33m\u001b[0m\u001b[0m\n\u001b[0m\u001b[0;32m   1355\u001b[0m         \u001b[1;32melse\u001b[0m\u001b[1;33m:\u001b[0m\u001b[1;33m\u001b[0m\u001b[1;33m\u001b[0m\u001b[0m\n\u001b[0;32m   1356\u001b[0m             \u001b[1;32mtry\u001b[0m\u001b[1;33m:\u001b[0m\u001b[1;33m\u001b[0m\u001b[1;33m\u001b[0m\u001b[0m\n",
      "\u001b[1;32m~\\anaconda\\Anaconda3\\envs\\PythonData\\lib\\site-packages\\pandas\\core\\indexing.py\u001b[0m in \u001b[0;36m_get_listlike_indexer\u001b[1;34m(self, key, axis, raise_missing)\u001b[0m\n\u001b[0;32m   1159\u001b[0m         self._validate_read_indexer(keyarr, indexer,\n\u001b[0;32m   1160\u001b[0m                                     \u001b[0mo\u001b[0m\u001b[1;33m.\u001b[0m\u001b[0m_get_axis_number\u001b[0m\u001b[1;33m(\u001b[0m\u001b[0maxis\u001b[0m\u001b[1;33m)\u001b[0m\u001b[1;33m,\u001b[0m\u001b[1;33m\u001b[0m\u001b[1;33m\u001b[0m\u001b[0m\n\u001b[1;32m-> 1161\u001b[1;33m                                     raise_missing=raise_missing)\n\u001b[0m\u001b[0;32m   1162\u001b[0m         \u001b[1;32mreturn\u001b[0m \u001b[0mkeyarr\u001b[0m\u001b[1;33m,\u001b[0m \u001b[0mindexer\u001b[0m\u001b[1;33m\u001b[0m\u001b[1;33m\u001b[0m\u001b[0m\n\u001b[0;32m   1163\u001b[0m \u001b[1;33m\u001b[0m\u001b[0m\n",
      "\u001b[1;32m~\\anaconda\\Anaconda3\\envs\\PythonData\\lib\\site-packages\\pandas\\core\\indexing.py\u001b[0m in \u001b[0;36m_validate_read_indexer\u001b[1;34m(self, key, indexer, axis, raise_missing)\u001b[0m\n\u001b[0;32m   1250\u001b[0m             \u001b[1;32mif\u001b[0m \u001b[1;32mnot\u001b[0m\u001b[1;33m(\u001b[0m\u001b[0mself\u001b[0m\u001b[1;33m.\u001b[0m\u001b[0mname\u001b[0m \u001b[1;33m==\u001b[0m \u001b[1;34m'loc'\u001b[0m \u001b[1;32mand\u001b[0m \u001b[1;32mnot\u001b[0m \u001b[0mraise_missing\u001b[0m\u001b[1;33m)\u001b[0m\u001b[1;33m:\u001b[0m\u001b[1;33m\u001b[0m\u001b[1;33m\u001b[0m\u001b[0m\n\u001b[0;32m   1251\u001b[0m                 \u001b[0mnot_found\u001b[0m \u001b[1;33m=\u001b[0m \u001b[0mlist\u001b[0m\u001b[1;33m(\u001b[0m\u001b[0mset\u001b[0m\u001b[1;33m(\u001b[0m\u001b[0mkey\u001b[0m\u001b[1;33m)\u001b[0m \u001b[1;33m-\u001b[0m \u001b[0mset\u001b[0m\u001b[1;33m(\u001b[0m\u001b[0max\u001b[0m\u001b[1;33m)\u001b[0m\u001b[1;33m)\u001b[0m\u001b[1;33m\u001b[0m\u001b[1;33m\u001b[0m\u001b[0m\n\u001b[1;32m-> 1252\u001b[1;33m                 \u001b[1;32mraise\u001b[0m \u001b[0mKeyError\u001b[0m\u001b[1;33m(\u001b[0m\u001b[1;34m\"{} not in index\"\u001b[0m\u001b[1;33m.\u001b[0m\u001b[0mformat\u001b[0m\u001b[1;33m(\u001b[0m\u001b[0mnot_found\u001b[0m\u001b[1;33m)\u001b[0m\u001b[1;33m)\u001b[0m\u001b[1;33m\u001b[0m\u001b[1;33m\u001b[0m\u001b[0m\n\u001b[0m\u001b[0;32m   1253\u001b[0m \u001b[1;33m\u001b[0m\u001b[0m\n\u001b[0;32m   1254\u001b[0m             \u001b[1;31m# we skip the warning on Categorical/Interval\u001b[0m\u001b[1;33m\u001b[0m\u001b[1;33m\u001b[0m\u001b[1;33m\u001b[0m\u001b[0m\n",
      "\u001b[1;31mKeyError\u001b[0m: \"['Plan ID (Standard Component)', 'Medical Maximum Out Of Pocket - Family (Per Person) - Standard', 'Medical Maximum Out Of Pocket - Family - Standard', 'Medical Maximum Out Of Pocket - Individual - Standard'] not in index\""
     ]
    }
   ],
   "source": [
    "# Health Columns wanted for analysis\n",
    "new_health14_df = pd.DataFrame(health14_df)\n",
    "health14_standard = new_health14_df[ ['State', 'Plan Marketing Name', 'Plan ID (Standard Component)', 'Metal Level', 'Plan Type',  'Medical Maximum Out Of Pocket - Individual - Standard',\n",
    "'Medical Maximum Out Of Pocket - Family - Standard', 'Medical Maximum Out Of Pocket - Family (Per Person) - Standard'] ].copy()\n",
    "\n",
    "health_standard.head()"
   ]
  },
  {
   "cell_type": "code",
   "execution_count": null,
   "metadata": {},
   "outputs": [],
   "source": [
    "# Rename Columns for health and dental standard\n",
    "transformed_health_standard = health_standard.rename(columns={\"Plan ID (Standard Component)\": \"Plan ID\",\n",
    "                                                              \"Medical Maximum Out Of Pocket - Individual - Standard\": \"Individual Standard\",\n",
    "                                                              \"Medical Maximum Out Of Pocket - Family - Standard\": \"Family Standard\",\n",
    "                                                              \"Medical Maximum Out Of Pocket - Family (Per Person) - Standard\": \"Family Per Person Standard\"}).copy()\n",
    "# drop duplicates of Plan Name (want all different plan types)\n",
    "transformed_health_standard.drop_duplicates(\"Plan Marketing Name\", inplace=True)\n",
    "transformed_health_standard.set_index(\"Plan Type\", inplace=True)\n",
    "\n",
    "transformed_health_standard.head()"
   ]
  },
  {
   "cell_type": "code",
   "execution_count": null,
   "metadata": {},
   "outputs": [],
   "source": [
    "print(transformed_health_standard.count())"
   ]
  },
  {
   "cell_type": "markdown",
   "metadata": {},
   "source": [
    "### Create Database Connection"
   ]
  },
  {
   "cell_type": "code",
   "execution_count": null,
   "metadata": {},
   "outputs": [],
   "source": [
    "connection_string = \"postgres:juiceman@localhost:5432/ETL_Project\"\n",
    "engine = create_engine(f'postgresql://{connection_string}')"
   ]
  },
  {
   "cell_type": "markdown",
   "metadata": {},
   "source": [
    "###  Load DataFrames into database"
   ]
  },
  {
   "cell_type": "code",
   "execution_count": null,
   "metadata": {},
   "outputs": [],
   "source": [
    "transformed_health_standard.to_sql(name='health', con=engine, if_exists='append', index=True)"
   ]
  },
  {
   "cell_type": "code",
   "execution_count": null,
   "metadata": {},
   "outputs": [],
   "source": [
    "transformed_dental_standard.to_sql(name='dental', con=engine, if_exists='append', index=True)"
   ]
  },
  {
   "cell_type": "code",
   "execution_count": null,
   "metadata": {},
   "outputs": [],
   "source": [
    " # Confirm tables\n",
    "engine.table_names()"
   ]
  },
  {
   "cell_type": "code",
   "execution_count": null,
   "metadata": {},
   "outputs": [],
   "source": []
  }
 ],
 "metadata": {
  "kernelspec": {
   "display_name": "Python [conda env:PythonData]",
   "language": "python",
   "name": "conda-env-PythonData-py"
  },
  "language_info": {
   "codemirror_mode": {
    "name": "ipython",
    "version": 3
   },
   "file_extension": ".py",
   "mimetype": "text/x-python",
   "name": "python",
   "nbconvert_exporter": "python",
   "pygments_lexer": "ipython3",
   "version": "3.6.8"
  }
 },
 "nbformat": 4,
 "nbformat_minor": 2
}
