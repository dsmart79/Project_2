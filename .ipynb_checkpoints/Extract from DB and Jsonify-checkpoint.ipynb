{
 "cells": [
  {
   "cell_type": "code",
   "execution_count": 38,
   "metadata": {},
   "outputs": [],
   "source": [
    "##dependencies\n",
    "import psycopg2\n",
    "import pandas as pd\n",
    "import numpy as np\n",
    "from flask import Flask, jsonify, render_template\n",
    "import json\n"
   ]
  },
  {
   "cell_type": "code",
   "execution_count": 42,
   "metadata": {},
   "outputs": [],
   "source": [
    "##pull data from postgres db\n",
    "try:\n",
    "    connection = psycopg2.connect(user = \"postgres\",\n",
    "                                  password = \"postgres\",\n",
    "                                  host = \"127.0.0.1\",\n",
    "                                  port = \"5432\",\n",
    "                                  database = \"Project 2\")\n",
    "    cursor = connection.cursor()\n",
    "\n",
    "    cursor.execute(\"SELECT * from public.clean_rate\")\n",
    "    records = cursor.fetchall()\n",
    "\n",
    "    clean18_rate_df = pd.DataFrame(records)\n",
    "\n",
    "\n",
    "except (Exception, psycopg2.Error) as error :\n",
    "    print (\"Error while connecting to PostgreSQL\", error)\n",
    "finally:\n",
    "    #closing database connection.\n",
    "        if(connection):\n",
    "            cursor.close()\n",
    "            connection.close()\n"
   ]
  },
  {
   "cell_type": "code",
   "execution_count": 43,
   "metadata": {},
   "outputs": [
    {
     "data": {
      "text/html": [
       "<div>\n",
       "<style scoped>\n",
       "    .dataframe tbody tr th:only-of-type {\n",
       "        vertical-align: middle;\n",
       "    }\n",
       "\n",
       "    .dataframe tbody tr th {\n",
       "        vertical-align: top;\n",
       "    }\n",
       "\n",
       "    .dataframe thead th {\n",
       "        text-align: right;\n",
       "    }\n",
       "</style>\n",
       "<table border=\"1\" class=\"dataframe\">\n",
       "  <thead>\n",
       "    <tr style=\"text-align: right;\">\n",
       "      <th></th>\n",
       "      <th>State</th>\n",
       "      <th>IssuerID</th>\n",
       "      <th>PlanID</th>\n",
       "      <th>Age</th>\n",
       "      <th>IndividualRate</th>\n",
       "    </tr>\n",
       "  </thead>\n",
       "  <tbody>\n",
       "    <tr>\n",
       "      <th>0</th>\n",
       "      <td>AZ</td>\n",
       "      <td>86830</td>\n",
       "      <td>86830AZ0040007</td>\n",
       "      <td>48</td>\n",
       "      <td>582.35</td>\n",
       "    </tr>\n",
       "    <tr>\n",
       "      <th>1</th>\n",
       "      <td>FL</td>\n",
       "      <td>49193</td>\n",
       "      <td>49193FL0070002</td>\n",
       "      <td>48</td>\n",
       "      <td>35.97</td>\n",
       "    </tr>\n",
       "    <tr>\n",
       "      <th>2</th>\n",
       "      <td>FL</td>\n",
       "      <td>16842</td>\n",
       "      <td>16842FL0070115</td>\n",
       "      <td>64</td>\n",
       "      <td>818.35</td>\n",
       "    </tr>\n",
       "    <tr>\n",
       "      <th>3</th>\n",
       "      <td>FL</td>\n",
       "      <td>48129</td>\n",
       "      <td>48129FL0070002</td>\n",
       "      <td>45</td>\n",
       "      <td>24.31</td>\n",
       "    </tr>\n",
       "    <tr>\n",
       "      <th>4</th>\n",
       "      <td>GA</td>\n",
       "      <td>49046</td>\n",
       "      <td>49046GA0410007</td>\n",
       "      <td>43</td>\n",
       "      <td>340.86</td>\n",
       "    </tr>\n",
       "  </tbody>\n",
       "</table>\n",
       "</div>"
      ],
      "text/plain": [
       "  State IssuerID          PlanID Age IndividualRate\n",
       "0    AZ    86830  86830AZ0040007  48         582.35\n",
       "1    FL    49193  49193FL0070002  48          35.97\n",
       "2    FL    16842  16842FL0070115  64         818.35\n",
       "3    FL    48129  48129FL0070002  45          24.31\n",
       "4    GA    49046  49046GA0410007  43         340.86"
      ]
     },
     "execution_count": 43,
     "metadata": {},
     "output_type": "execute_result"
    }
   ],
   "source": [
    "#drop records with values that can't be converted to int, rename columns\n",
    "clean18_rate_df = clean18_rate_df[clean18_rate_df[3] != '65 and over']\n",
    "clean18_rate_df = clean18_rate_df[clean18_rate_df[3] != 'Family Option']\n",
    "clean18_rate_df = clean18_rate_df[clean18_rate_df[3] != '0-20']\n",
    "clean18_rate_df.columns = ['State','IssuerID','PlanID','Age','IndividualRate']\n",
    "\n",
    "clean18_rate_df.head()"
   ]
  },
  {
   "cell_type": "code",
   "execution_count": 50,
   "metadata": {},
   "outputs": [
    {
     "name": "stdout",
     "output_type": "stream",
     "text": [
      " 4568 records were dropped\n",
      " 0.4568% of all records\n"
     ]
    }
   ],
   "source": [
    "## Find how many records were dropped\n",
    "print(f\" {100000 - clean18_rate_df['Age'].count()} records were dropped\")\n",
    "print(f\" {4568/10000}% of all records\")"
   ]
  },
  {
   "cell_type": "code",
   "execution_count": 51,
   "metadata": {},
   "outputs": [],
   "source": [
    "## cast age as int to do math\n",
    "clean18_rate_df['Age'] = clean18_rate_df['Age'].astype(int)"
   ]
  },
  {
   "cell_type": "code",
   "execution_count": 52,
   "metadata": {},
   "outputs": [],
   "source": [
    "## groupby state and find avg age\n",
    "clean18_rate_avg_age_df = clean18_rate_df.groupby('State').mean()\n",
    "clean18_rate_avg_age_df = clean18_rate_avg_age_df.reset_index()"
   ]
  },
  {
   "cell_type": "code",
   "execution_count": 72,
   "metadata": {},
   "outputs": [],
   "source": [
    "## create dictionaries to jsonify and hand off to js\n",
    "clean18_rate_avg_age = []\n",
    "counter = 0\n",
    "for plan in clean18_rate_avg_age_df.iterrows():\n",
    "    clean18_rate_avg_age.append({'State':clean18_rate_avg_age_df.iloc[counter,0],'Age':clean18_rate_avg_age_df.iloc[counter,-1]})\n",
    "    counter = counter +1"
   ]
  },
  {
   "cell_type": "code",
   "execution_count": 73,
   "metadata": {},
   "outputs": [],
   "source": [
    "##pull data from postgres db\n",
    "try:\n",
    "    connection = psycopg2.connect(user = \"postgres\",\n",
    "                                  password = \"postgres\",\n",
    "                                  host = \"127.0.0.1\",\n",
    "                                  port = \"5432\",\n",
    "                                  database = \"Project 2\")\n",
    "    cursor = connection.cursor()\n",
    "\n",
    "    \n",
    "    ##right now this points at new_healthsop 2018, it should either repeat for each year or target a combined db and add a year column\n",
    "    cursor.execute(\"SELECT * from public.new_healthshop2018\")\n",
    "    records = cursor.fetchall()\n",
    "\n",
    "except (Exception, psycopg2.Error) as error :\n",
    "    print (\"Error while connecting to PostgreSQL\", error)\n",
    "finally:\n",
    "    #closing database connection.\n",
    "        if(connection):\n",
    "            cursor.close()\n",
    "            connection.close()\n"
   ]
  },
  {
   "cell_type": "code",
   "execution_count": 74,
   "metadata": {},
   "outputs": [
    {
     "data": {
      "text/plain": [
       "State     12091\n",
       "FIPS      12091\n",
       "Metal     12091\n",
       "Issuer    12091\n",
       "Type      12091\n",
       "dtype: int64"
      ]
     },
     "execution_count": 74,
     "metadata": {},
     "output_type": "execute_result"
    }
   ],
   "source": [
    "## drop unecessary columns and then label remaining columns\n",
    "healthshop_2018_df = pd.DataFrame(records)\n",
    "healthshop_2018_df = healthshop_2018_df.drop(columns= [2,5,6,7,9,10,11])\n",
    "healthshop_2018_df.columns = ['State','FIPS','Metal','Issuer','Type']\n",
    "healthshop_2018_df.count()"
   ]
  },
  {
   "cell_type": "code",
   "execution_count": 75,
   "metadata": {},
   "outputs": [],
   "source": [
    "##create groupbys to operate on\n",
    "state18_groupby = healthshop_2018_df.groupby('State')\n",
    "FIPS18_groupby = healthshop_2018_df.groupby('FIPS')\n",
    "state18_metal_groupby = healthshop_2018_df.groupby(['Metal','State'])\n",
    "fips18_metal_groupby = healthshop_2018_df.groupby(['Metal','FIPS'])\n",
    "state18_issuer_groupby = healthshop_2018_df.groupby(['Issuer','State'])\n",
    "fips18_issuer_groupby = healthshop_2018_df.groupby(['Issuer','FIPS'])\n",
    "state18_type_groupby = healthshop_2018_df.groupby(['Type','State'])\n",
    "fips18_type_groupby = healthshop_2018_df.groupby(['Type','FIPS'])"
   ]
  },
  {
   "cell_type": "code",
   "execution_count": 76,
   "metadata": {},
   "outputs": [],
   "source": [
    "#get count for each state and FIPS\n",
    "state18_count = state18_groupby[['FIPS']].count()\n",
    "#right now this is cast to a string because jsonify didn't like numpy results??\n",
    "state18_count['FIPS'] = state18_count['FIPS'].astype(str) \n",
    "state18_count = state18_count.reset_index(drop=False)\n",
    "state18_count.columns = ['State','Count']\n",
    "\n",
    "fips18_count = FIPS18_groupby[['Type']].count()\n",
    "fips18_count['Type'] = fips18_count['Type'].astype(str)\n",
    "fips18_count = fips18_count.reset_index(drop=False)\n",
    "fips18_count.columns = ['FIPS','Count']"
   ]
  },
  {
   "cell_type": "code",
   "execution_count": 77,
   "metadata": {},
   "outputs": [],
   "source": [
    "#get count for each metal type by state and FIPS\n",
    "state18_metal_count = state18_metal_groupby[['FIPS']].count()\n",
    "state18_metal_count['FIPS'] = state18_metal_count['FIPS'].astype(str)\n",
    "state18_metal_count = state18_metal_count.reset_index(drop=False)\n",
    "state18_metal_count.columns = ['Metal','State','Count']\n",
    "\n",
    "fips18_metal_count = fips18_metal_groupby[['State']].count()\n",
    "fips18_metal_count['State'] = fips18_metal_count['State'].astype(str)\n",
    "fips18_metal_count = fips18_metal_count.reset_index(drop=False)\n",
    "fips18_metal_count.columns = 'Metal','FIPS','Count'"
   ]
  },
  {
   "cell_type": "code",
   "execution_count": 78,
   "metadata": {},
   "outputs": [],
   "source": [
    "#get count for each issuer by state and FIPS\n",
    "state18_issuer_count = state18_issuer_groupby[['FIPS']].count()\n",
    "state18_issuer_count[['FIPS']] = state18_issuer_count[['FIPS']].astype(str)\n",
    "state18_issuer_count = state18_issuer_count.reset_index(drop=False)\n",
    "state18_issuer_count.columns = ['Issuer','State','Count']\n",
    "\n",
    "fips18_issuer_count = fips18_issuer_groupby[['State']].count()\n",
    "fips18_issuer_count[['State']] = fips18_issuer_count[['State']].astype(str)\n",
    "fips18_issuer_count = fips18_issuer_count.reset_index(drop=False)\n",
    "fips18_issuer_count.columns = ['Issuer','FIPS','Count']"
   ]
  },
  {
   "cell_type": "code",
   "execution_count": 79,
   "metadata": {},
   "outputs": [],
   "source": [
    "#get count of plan type for each state and FIPS\n",
    "state18_type_count = state18_type_groupby[['FIPS']].count()\n",
    "state18_type_count['FIPS'] = state18_type_count['FIPS'].astype(str)\n",
    "state18_type_count = state18_type_count.reset_index(drop=False)\n",
    "state18_type_count.columns = ['Type','State','Count']\n",
    "\n",
    "fips18_type_count = fips18_type_groupby[['State']].count()\n",
    "fips18_type_count['State'] = fips18_type_count['State'].astype(str)\n",
    "fips18_type_count = fips18_type_count.reset_index(drop=False)\n",
    "fips18_type_count.columns = ['Type','FIPS','Count']"
   ]
  },
  {
   "cell_type": "code",
   "execution_count": 80,
   "metadata": {},
   "outputs": [],
   "source": [
    "#turn dfs into dicts for jsonification\n",
    "state18_count_obs = []\n",
    "counter = 0\n",
    "for plan in state18_count.iterrows():\n",
    "    state18_count_obs.append({'State':state18_count.iloc[counter,0],'Count':state18_count.iloc[counter,-1]})\n",
    "    counter = counter +1\n",
    "\n",
    "fips18_count_obs = []\n",
    "counter = 0\n",
    "for plan in fips18_count.iterrows():\n",
    "    fips18_count_obs.append({'FIPS':fips18_count.iloc[counter,0],'Count':fips18_count.iloc[counter,-1]})\n",
    "    counter = counter +1\n",
    "\n",
    "state18_metal_obs = []\n",
    "counter = 0\n",
    "for plan in state18_metal_count.iterrows():\n",
    "    state18_metal_obs.append({'State':state18_metal_count.iloc[counter,1],'Metal':state18_metal_count.iloc[counter,0],'Count':state18_metal_count.iloc[counter,-1]})\n",
    "    counter = counter +1\n",
    "    \n",
    "fips18_metal_obs = []\n",
    "counter = 0\n",
    "for plan in fips18_metal_count.iterrows():\n",
    "    fips18_metal_obs.append({'FIPS':fips18_metal_count.iloc[counter,1],'Metal':fips18_metal_count.iloc[counter,0],'Count':fips18_metal_count.iloc[counter,-1]})\n",
    "    counter = counter +1\n",
    "\n",
    "state18_issuer_obs = []\n",
    "counter = 0\n",
    "for plan in state18_issuer_count.iterrows():\n",
    "    state18_issuer_obs.append({'State':state18_issuer_count.iloc[counter,1],'Count':state18_issuer_count.iloc[counter,-1], 'Issuer':state18_issuer_count.iloc[counter,0]})\n",
    "    counter = counter +1\n",
    "    \n",
    "fips18_issuer_obs = []\n",
    "counter = 0\n",
    "for plan in fips18_issuer_count.iterrows():\n",
    "    fips18_issuer_obs.append({'FIPS':fips18_issuer_count.iloc[counter,1],'Count':fips18_issuer_count.iloc[counter,-1], 'Issuer':fips18_issuer_count.iloc[counter,0]})\n",
    "    counter = counter +1\n",
    "    \n",
    "state18_type_obs = []\n",
    "counter = 0\n",
    "for plan in state18_type_count.iterrows():\n",
    "    state18_type_obs.append({'State':state18_type_count.iloc[counter,1],'Count':state18_type_count.iloc[counter,-1], 'Type':state18_type_count.iloc[counter,0]})\n",
    "    counter = counter +1\n",
    "    \n",
    "fips18_type_obs = []\n",
    "counter = 0\n",
    "for plan in fips18_type_count.iterrows():\n",
    "    fips18_type_obs.append({'FIPS':fips18_type_count.iloc[counter,1],'Count':fips18_type_count.iloc[counter,-1], 'Type':fips18_type_count.iloc[counter,0]})\n",
    "    counter = counter +1"
   ]
  },
  {
   "cell_type": "code",
   "execution_count": 81,
   "metadata": {},
   "outputs": [
    {
     "data": {
      "text/plain": [
       "[{'State': 'AK', 'Age': 42.00511247443763},\n",
       " {'State': 'AL', 'Age': 42.60516346288761},\n",
       " {'State': 'AZ', 'Age': 42.47908832783363},\n",
       " {'State': 'FL', 'Age': 42.57880722232355},\n",
       " {'State': 'GA', 'Age': 42.73806550763615},\n",
       " {'State': 'IN', 'Age': 42.45952512424075}]"
      ]
     },
     "execution_count": 81,
     "metadata": {},
     "output_type": "execute_result"
    }
   ],
   "source": [
    "clean18_rate_avg_age"
   ]
  },
  {
   "cell_type": "code",
   "execution_count": 82,
   "metadata": {},
   "outputs": [
    {
     "data": {
      "text/plain": [
       "[{'State': 'AK', 'Count': '812'},\n",
       " {'State': 'AL', 'Count': '402'},\n",
       " {'State': 'FL', 'Count': '146'},\n",
       " {'State': 'GA', 'Count': '480'},\n",
       " {'State': 'IA', 'Count': '80'},\n",
       " {'State': 'IL', 'Count': '2100'},\n",
       " {'State': 'LA', 'Count': '320'},\n",
       " {'State': 'ME', 'Count': '64'},\n",
       " {'State': 'MI', 'Count': '448'},\n",
       " {'State': 'MT', 'Count': '1617'},\n",
       " {'State': 'ND', 'Count': '464'},\n",
       " {'State': 'NH', 'Count': '60'},\n",
       " {'State': 'NJ', 'Count': '210'},\n",
       " {'State': 'OH', 'Count': '288'},\n",
       " {'State': 'OK', 'Count': '324'},\n",
       " {'State': 'PA', 'Count': '2064'},\n",
       " {'State': 'SD', 'Count': '552'},\n",
       " {'State': 'VA', 'Count': '322'},\n",
       " {'State': 'WI', 'Count': '1338'}]"
      ]
     },
     "execution_count": 82,
     "metadata": {},
     "output_type": "execute_result"
    }
   ],
   "source": [
    "state18_count_obs"
   ]
  },
  {
   "cell_type": "code",
   "execution_count": 83,
   "metadata": {},
   "outputs": [
    {
     "name": "stdout",
     "output_type": "stream",
     "text": [
      " * Serving Flask app \"__main__\" (lazy loading)\n",
      " * Environment: production\n",
      "   WARNING: Do not use the development server in a production environment.\n",
      "   Use a production WSGI server instead.\n",
      " * Debug mode: on\n"
     ]
    },
    {
     "name": "stderr",
     "output_type": "stream",
     "text": [
      " * Restarting with stat\n"
     ]
    },
    {
     "ename": "SystemExit",
     "evalue": "1",
     "output_type": "error",
     "traceback": [
      "An exception has occurred, use %tb to see the full traceback.\n",
      "\u001b[1;31mSystemExit\u001b[0m\u001b[1;31m:\u001b[0m 1\n"
     ]
    },
    {
     "name": "stderr",
     "output_type": "stream",
     "text": [
      "C:\\Users\\ Derek\\anaconda\\Anaconda3\\envs\\PythonData\\lib\\site-packages\\IPython\\core\\interactiveshell.py:3304: UserWarning: To exit: use 'exit', 'quit', or Ctrl-D.\n",
      "  warn(\"To exit: use 'exit', 'quit', or Ctrl-D.\", stacklevel=1)\n"
     ]
    }
   ],
   "source": [
    "app = Flask(__name__)\n",
    "\n",
    "@app.route(\"/\")\n",
    "def index():\n",
    "    return render_template(\"index.html\")\n",
    "    \n",
    "@app.route(\"/data\")\n",
    "def data():\n",
    "    return render_template(\"data.html\")\n",
    "    \n",
    "@app.route(\"/conclusions\")\n",
    "def conclusions():\n",
    "    return render_template(\"conclusions.html\")\n",
    "    \n",
    "@app.route(\"/info\")\n",
    "def welcome():\n",
    "    return 'Available routes: /avg_age, /state_count, /fips_count, /state_metal, /fips_metal, /state_issuer, /state_type, /fips_type'\n",
    "\n",
    "@app.route(\"/avg_age18\")\n",
    "def avgAge():\n",
    "    return jsonify(clean18_rate_avg_age)\n",
    "\n",
    "@app.route(\"/state_count18\")\n",
    "def stateCount():\n",
    "    return jsonify(state18_count_obs)\n",
    "\n",
    "@app.route(\"/fips_count18\")\n",
    "def fipsCount():\n",
    "    return jsonify(fips18_count_obs)\n",
    "\n",
    "@app.route(\"/state18_metal18\")\n",
    "def stateMetal():\n",
    "    return jsonify(state18_metal_obs)\n",
    "\n",
    "@app.route(\"/fips_metal18\")\n",
    "def fipsMetal():\n",
    "    return jsonify(fips18_metal_obs)\n",
    "\n",
    "@app.route(\"/state_issuer18\")\n",
    "def stateIssuer():\n",
    "    return jsonify(state18_issuer_obs)\n",
    "\n",
    "@app.route(\"/fips_issuer18\")\n",
    "def fipsIssuer():\n",
    "    return jsonify(fips18_issuer_obs)\n",
    "\n",
    "@app.route(\"/state_type18\")\n",
    "def stateType():\n",
    "    return jsonify(state18_type_obs)\n",
    "\n",
    "@app.route(\"/fips_type18\")\n",
    "def fipsType():\n",
    "    return jsonify(fips18_type_obs)\n",
    "\n",
    "if __name__ == '__main__':\n",
    "    app.run(debug=True)\n"
   ]
  },
  {
   "cell_type": "code",
   "execution_count": null,
   "metadata": {},
   "outputs": [],
   "source": []
  }
 ],
 "metadata": {
  "kernelspec": {
   "display_name": "Python [conda env:pythondata] *",
   "language": "python",
   "name": "conda-env-pythondata-py"
  }
 },
 "nbformat": 4,
 "nbformat_minor": 2
}
