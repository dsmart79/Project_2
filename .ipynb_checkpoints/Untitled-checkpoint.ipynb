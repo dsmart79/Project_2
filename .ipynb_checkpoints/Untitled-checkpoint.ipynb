{
 "cells": [
  {
   "cell_type": "code",
   "execution_count": 109,
   "metadata": {},
   "outputs": [],
   "source": [
    "import pandas as pd\n",
    "import requests"
   ]
  },
  {
   "cell_type": "code",
   "execution_count": 110,
   "metadata": {},
   "outputs": [],
   "source": [
    "states = pd.read_json('./static/geoJson/us_states.json')\n",
    "state_codes = pd.read_csv('./CSVs/state_codes.csv')"
   ]
  },
  {
   "cell_type": "code",
   "execution_count": 118,
   "metadata": {},
   "outputs": [
    {
     "name": "stdout",
     "output_type": "stream",
     "text": [
      "AL\n",
      "AK\n"
     ]
    }
   ],
   "source": [
    "state_list = state_codes[['State/District','Postal Code']][:51]\n",
    "\n",
    "counter = 0\n",
    "\n",
    "for state in state_list:\n",
    "    state_code = state_list['Postal Code'][counter]\n",
    "    states['features'][counter]['properties']['state_code'] = state_code\n",
    "    counter = counter + 1\n",
    "    print(state_code)"
   ]
  },
  {
   "cell_type": "code",
   "execution_count": null,
   "metadata": {},
   "outputs": [],
   "source": []
  },
  {
   "cell_type": "code",
   "execution_count": 78,
   "metadata": {},
   "outputs": [],
   "source": [
    "lookup_state = states['features'][0]['properties']['state_code']"
   ]
  },
  {
   "cell_type": "code",
   "execution_count": 79,
   "metadata": {},
   "outputs": [],
   "source": [
    "state_count15 = requests.get('http://localhost:5000/state_count15')\n",
    "state_count16 = requests.get('http://localhost:5000/state_count16')\n",
    "state_count17 = requests.get('http://localhost:5000/state_count17')\n",
    "state_count18 = requests.get('http://localhost:5000/state_count18')"
   ]
  },
  {
   "cell_type": "code",
   "execution_count": 80,
   "metadata": {},
   "outputs": [
    {
     "ename": "AttributeError",
     "evalue": "'list' object has no attribute 'head'",
     "output_type": "error",
     "traceback": [
      "\u001b[1;31m---------------------------------------------------------------------------\u001b[0m",
      "\u001b[1;31mAttributeError\u001b[0m                            Traceback (most recent call last)",
      "\u001b[1;32m<ipython-input-80-832e02313544>\u001b[0m in \u001b[0;36m<module>\u001b[1;34m\u001b[0m\n\u001b[0;32m      1\u001b[0m \u001b[0mstate_count15\u001b[0m \u001b[1;33m=\u001b[0m \u001b[0mstate_count15\u001b[0m\u001b[1;33m.\u001b[0m\u001b[0mjson\u001b[0m\u001b[1;33m(\u001b[0m\u001b[1;33m)\u001b[0m\u001b[1;33m\u001b[0m\u001b[1;33m\u001b[0m\u001b[0m\n\u001b[1;32m----> 2\u001b[1;33m \u001b[0mstate_count15\u001b[0m\u001b[1;33m.\u001b[0m\u001b[0mhead\u001b[0m\u001b[1;33m(\u001b[0m\u001b[1;33m)\u001b[0m\u001b[1;33m\u001b[0m\u001b[1;33m\u001b[0m\u001b[0m\n\u001b[0m",
      "\u001b[1;31mAttributeError\u001b[0m: 'list' object has no attribute 'head'"
     ]
    }
   ],
   "source": [
    "state_count15 = state_count15.json()"
   ]
  },
  {
   "cell_type": "code",
   "execution_count": 81,
   "metadata": {},
   "outputs": [
    {
     "data": {
      "text/plain": [
       "[{'Count': '957', 'State': 'AK'},\n",
       " {'Count': '402', 'State': 'AL'},\n",
       " {'Count': '214', 'State': 'AZ'},\n",
       " {'Count': '45', 'State': 'DE'},\n",
       " {'Count': '902', 'State': 'FL'},\n",
       " {'Count': '2165', 'State': 'GA'},\n",
       " {'Count': '627', 'State': 'IA'},\n",
       " {'Count': '2904', 'State': 'IL'},\n",
       " {'Count': '460', 'State': 'IN'},\n",
       " {'Count': '1034', 'State': 'KS'},\n",
       " {'Count': '576', 'State': 'LA'},\n",
       " {'Count': '376', 'State': 'ME'},\n",
       " {'Count': '801', 'State': 'MI'},\n",
       " {'Count': '315', 'State': 'MO'},\n",
       " {'Count': '2128', 'State': 'MT'},\n",
       " {'Count': '899', 'State': 'NC'},\n",
       " {'Count': '583', 'State': 'ND'},\n",
       " {'Count': '186', 'State': 'NE'},\n",
       " {'Count': '292', 'State': 'NH'},\n",
       " {'Count': '1044', 'State': 'NJ'},\n",
       " {'Count': '51', 'State': 'NV'},\n",
       " {'Count': '800', 'State': 'OH'},\n",
       " {'Count': '2281', 'State': 'OK'},\n",
       " {'Count': '2696', 'State': 'PA'},\n",
       " {'Count': '1978', 'State': 'SC'},\n",
       " {'Count': '1122', 'State': 'SD'},\n",
       " {'Count': '950', 'State': 'TN'},\n",
       " {'Count': '5144', 'State': 'TX'},\n",
       " {'Count': '1450', 'State': 'VA'},\n",
       " {'Count': '4721', 'State': 'WI'},\n",
       " {'Count': '825', 'State': 'WV'},\n",
       " {'Count': '552', 'State': 'WY'}]"
      ]
     },
     "execution_count": 81,
     "metadata": {},
     "output_type": "execute_result"
    }
   ],
   "source": [
    "state_count15"
   ]
  },
  {
   "cell_type": "code",
   "execution_count": 114,
   "metadata": {},
   "outputs": [
    {
     "data": {
      "text/plain": [
       "{'name': 'Nebraska', 'density': 23.97}"
      ]
     },
     "execution_count": 114,
     "metadata": {},
     "output_type": "execute_result"
    }
   ],
   "source": [
    "states['features'][27]['properties']"
   ]
  },
  {
   "cell_type": "code",
   "execution_count": 62,
   "metadata": {},
   "outputs": [
    {
     "data": {
      "text/plain": [
       "['AK']"
      ]
     },
     "execution_count": 62,
     "metadata": {},
     "output_type": "execute_result"
    }
   ],
   "source": [
    "state_list.get('State',[state])"
   ]
  },
  {
   "cell_type": "code",
   "execution_count": null,
   "metadata": {},
   "outputs": [],
   "source": []
  }
 ],
 "metadata": {
  "kernelspec": {
   "display_name": "Python [conda env:pythondata] *",
   "language": "python",
   "name": "conda-env-pythondata-py"
  },
  "language_info": {
   "codemirror_mode": {
    "name": "ipython",
    "version": 3
   },
   "file_extension": ".py",
   "mimetype": "text/x-python",
   "name": "python",
   "nbconvert_exporter": "python",
   "pygments_lexer": "ipython3",
   "version": "3.6.8"
  }
 },
 "nbformat": 4,
 "nbformat_minor": 2
}
