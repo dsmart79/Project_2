{
 "cells": [
  {
   "cell_type": "code",
   "execution_count": 488,
   "metadata": {},
   "outputs": [],
   "source": [
    "#dependencies\n",
    "import pandas as pd\n",
    "import requests"
   ]
  },
  {
   "cell_type": "code",
   "execution_count": 495,
   "metadata": {},
   "outputs": [],
   "source": [
    "#read in geoJSON and state codes\n",
    "states = pd.read_json('./static/geoJson/us_states.json')\n",
    "state_codes = pd.read_csv('./CSVs/state_codes.csv')"
   ]
  },
  {
   "cell_type": "code",
   "execution_count": 496,
   "metadata": {},
   "outputs": [],
   "source": [
    "#Drop territories\n",
    "state_list = state_codes[['State/District','Postal Code']][:51]\n",
    "\n",
    "counter = 0\n",
    "\n",
    "#Add state codes to geoJSON for easier lookups\n",
    "for state in state_list.iterrows():\n",
    "    state_code = state_list['Postal Code'][counter]\n",
    "    states['features'][counter]['properties']['state_code'] = state_code\n",
    "    counter = counter + 1\n",
    "    \n",
    "#PR gets a code so the program doesn't bomb later\n",
    "states['features'][51]['properties']['state_code'] = 'PR'"
   ]
  },
  {
   "cell_type": "code",
   "execution_count": 497,
   "metadata": {},
   "outputs": [],
   "source": [
    "#JSON requests to api endpoint to get attributes to write to geoJSON\n",
    "state_count15 = requests.get('http://localhost:5000/state_count15')\n",
    "state_metal15 = requests.get('http://localhost:5000/state_metal15')\n",
    "state_issuer15 = requests.get('http://localhost:5000/state_issuer15')\n",
    "state_type15 = requests.get('http://localhost:5000/state_type15')"
   ]
  },
  {
   "cell_type": "code",
   "execution_count": 498,
   "metadata": {},
   "outputs": [],
   "source": [
    "#read the JSONs\n",
    "state_count15 = state_count15.json()\n",
    "state_metal15 = state_metal15.json()\n",
    "state_issuer15 = state_issuer15.json()\n",
    "state_type15 = state_type15.json()"
   ]
  },
  {
   "cell_type": "code",
   "execution_count": 500,
   "metadata": {},
   "outputs": [],
   "source": [
    "for dicts in state_count15: \n",
    "    for keys in dicts: \n",
    "        dicts['Count'] = int(dicts['Count']) "
   ]
  },
  {
   "cell_type": "code",
   "execution_count": 501,
   "metadata": {},
   "outputs": [],
   "source": [
    "#lookup the states that we have data for count data to the geoJSON\n",
    "\n",
    "counter1=0\n",
    "counter2=0\n",
    "\n",
    "while counter1 < len(state_count15):\n",
    "    lookup_state = state_count15[counter1]['State']\n",
    "    count_state = states['features'][counter2]['properties']['state_code']\n",
    "    counter2 = counter2 +1\n",
    "    if lookup_state == count_state:\n",
    "        states['features'][counter2]['properties']['state_count15'] = state_count15[counter1]['Count']\n",
    "        counter2 = 0\n",
    "        counter1 = counter1 +1"
   ]
  },
  {
   "cell_type": "code",
   "execution_count": 471,
   "metadata": {},
   "outputs": [],
   "source": [
    "#break metal up into each type\n",
    "\n",
    "year_var = metal_count15\n",
    "source_var = state_metal15\n",
    "\n",
    "year_data = pd.DataFrame(source_var)\n",
    "bronze15=year_data.loc[year_data['Metal'] == 'Bronze'].reset_index(drop=True)\n",
    "silver15=year_data.loc[year_data['Metal'] == 'Silver'].reset_index(drop=True)\n",
    "gold15=year_data.loc[year_data['Metal'] == 'Gold'].reset_index(drop=True)\n",
    "platinum15=year_data.loc[year_data['Metal'] == 'Platinum'].reset_index(drop=True)"
   ]
  },
  {
   "cell_type": "code",
   "execution_count": 472,
   "metadata": {},
   "outputs": [],
   "source": [
    "#write metal data to geoJSON\n",
    "\n",
    "counter1=0\n",
    "counter2=0\n",
    "\n",
    "pointer = bronze15\n",
    "\n",
    "while counter1 < len(pointer):\n",
    "    lookup_state = pointer['State'][counter1]\n",
    "    count_state = states['features'][counter2]['properties']['state_code']\n",
    "    counter2 = counter2 +1\n",
    "    if lookup_state == count_state:\n",
    "        states['features'][counter2]['properties'][f'{pointer}'] = pointer.loc[pointer['State'] == lookup_state]['Count'][counter1]\n",
    "        counter2 = 0\n",
    "        counter1 = counter1 +1\n"
   ]
  },
  {
   "cell_type": "code",
   "execution_count": 502,
   "metadata": {},
   "outputs": [
    {
     "data": {
      "text/plain": [
       "{'name': 'Arizona', 'density': 57.05, 'state_code': 'AZ', 'state_count15': 957}"
      ]
     },
     "execution_count": 502,
     "metadata": {},
     "output_type": "execute_result"
    }
   ],
   "source": [
    "states['features'][2]['properties']"
   ]
  },
  {
   "cell_type": "code",
   "execution_count": 503,
   "metadata": {},
   "outputs": [],
   "source": [
    "states.to_json('./static/geoJson/modifiedStates.json')"
   ]
  },
  {
   "cell_type": "code",
   "execution_count": null,
   "metadata": {},
   "outputs": [],
   "source": []
  }
 ],
 "metadata": {
  "kernelspec": {
   "display_name": "Python [conda env:pythondata] *",
   "language": "python",
   "name": "conda-env-pythondata-py"
  },
  "language_info": {
   "codemirror_mode": {
    "name": "ipython",
    "version": 3
   },
   "file_extension": ".py",
   "mimetype": "text/x-python",
   "name": "python",
   "nbconvert_exporter": "python",
   "pygments_lexer": "ipython3",
   "version": "3.6.8"
  }
 },
 "nbformat": 4,
 "nbformat_minor": 2
}
