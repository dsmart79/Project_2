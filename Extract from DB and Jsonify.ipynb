{
 "cells": [
  {
   "cell_type": "code",
   "execution_count": 1,
   "metadata": {},
   "outputs": [],
   "source": [
    "##dependencies\n",
    "import psycopg2\n",
    "import pandas as pd\n",
    "import numpy as np\n",
    "from flask import Flask, jsonify, render_template\n",
    "import json\n"
   ]
  },
  {
   "cell_type": "code",
   "execution_count": 2,
   "metadata": {},
   "outputs": [
    {
     "name": "stdout",
     "output_type": "stream",
     "text": [
      "{'user': 'postgres', 'dbname': 'Health Insurance MarketPlace', 'host': '127.0.0.1', 'port': '5432', 'tty': '', 'options': '', 'sslmode': 'prefer', 'sslcompression': '0', 'krbsrvname': 'postgres', 'target_session_attrs': 'any'} \n",
      "\n",
      "PostgreSQL connection is closed\n"
     ]
    }
   ],
   "source": [
    "##pull data from postgres db\n",
    "try:\n",
    "    connection = psycopg2.connect(user = \"postgres\",\n",
    "                                  password = \"postgres\",\n",
    "                                  host = \"127.0.0.1\",\n",
    "                                  port = \"5432\",\n",
    "                                  database = \"Health Insurance MarketPlace\")\n",
    "    cursor = connection.cursor()\n",
    "    # Print PostgreSQL Connection properties\n",
    "    print ( connection.get_dsn_parameters(),\"\\n\")\n",
    "    # Print PostgreSQL version\n",
    "    cursor.execute(\"SELECT * from public.clean_rate\")\n",
    "    records = cursor.fetchall()\n",
    "\n",
    "    clean_rate_df = pd.DataFrame(records)\n",
    "\n",
    "\n",
    "except (Exception, psycopg2.Error) as error :\n",
    "    print (\"Error while connecting to PostgreSQL\", error)\n",
    "finally:\n",
    "    #closing database connection.\n",
    "        if(connection):\n",
    "            cursor.close()\n",
    "            connection.close()\n",
    "            print(\"PostgreSQL connection is closed\")"
   ]
  },
  {
   "cell_type": "code",
   "execution_count": 3,
   "metadata": {},
   "outputs": [
    {
     "data": {
      "text/html": [
       "<div>\n",
       "<style scoped>\n",
       "    .dataframe tbody tr th:only-of-type {\n",
       "        vertical-align: middle;\n",
       "    }\n",
       "\n",
       "    .dataframe tbody tr th {\n",
       "        vertical-align: top;\n",
       "    }\n",
       "\n",
       "    .dataframe thead th {\n",
       "        text-align: right;\n",
       "    }\n",
       "</style>\n",
       "<table border=\"1\" class=\"dataframe\">\n",
       "  <thead>\n",
       "    <tr style=\"text-align: right;\">\n",
       "      <th></th>\n",
       "      <th>State</th>\n",
       "      <th>IssuerID</th>\n",
       "      <th>PlanID</th>\n",
       "      <th>Age</th>\n",
       "      <th>IndividualRate</th>\n",
       "    </tr>\n",
       "  </thead>\n",
       "  <tbody>\n",
       "    <tr>\n",
       "      <th>0</th>\n",
       "      <td>AZ</td>\n",
       "      <td>86830</td>\n",
       "      <td>86830AZ0040007</td>\n",
       "      <td>48</td>\n",
       "      <td>582.35</td>\n",
       "    </tr>\n",
       "    <tr>\n",
       "      <th>1</th>\n",
       "      <td>FL</td>\n",
       "      <td>49193</td>\n",
       "      <td>49193FL0070002</td>\n",
       "      <td>48</td>\n",
       "      <td>35.97</td>\n",
       "    </tr>\n",
       "    <tr>\n",
       "      <th>2</th>\n",
       "      <td>FL</td>\n",
       "      <td>16842</td>\n",
       "      <td>16842FL0070115</td>\n",
       "      <td>64</td>\n",
       "      <td>818.35</td>\n",
       "    </tr>\n",
       "    <tr>\n",
       "      <th>3</th>\n",
       "      <td>FL</td>\n",
       "      <td>48129</td>\n",
       "      <td>48129FL0070002</td>\n",
       "      <td>45</td>\n",
       "      <td>24.31</td>\n",
       "    </tr>\n",
       "    <tr>\n",
       "      <th>4</th>\n",
       "      <td>GA</td>\n",
       "      <td>49046</td>\n",
       "      <td>49046GA0410007</td>\n",
       "      <td>43</td>\n",
       "      <td>340.86</td>\n",
       "    </tr>\n",
       "  </tbody>\n",
       "</table>\n",
       "</div>"
      ],
      "text/plain": [
       "  State IssuerID          PlanID Age IndividualRate\n",
       "0    AZ    86830  86830AZ0040007  48         582.35\n",
       "1    FL    49193  49193FL0070002  48          35.97\n",
       "2    FL    16842  16842FL0070115  64         818.35\n",
       "3    FL    48129  48129FL0070002  45          24.31\n",
       "4    GA    49046  49046GA0410007  43         340.86"
      ]
     },
     "execution_count": 3,
     "metadata": {},
     "output_type": "execute_result"
    }
   ],
   "source": [
    "#drop records with values that can't be converted to int, rename columns\n",
    "clean_rate_df = clean_rate_df[clean_rate_df[3] != '65 and over']\n",
    "clean_rate_df = clean_rate_df[clean_rate_df[3] != 'Family Option']\n",
    "clean_rate_df = clean_rate_df[clean_rate_df[3] != '0-20']\n",
    "clean_rate_df.columns = ['State','IssuerID','PlanID','Age','IndividualRate']\n",
    "\n",
    "clean_rate_df.head()"
   ]
  },
  {
   "cell_type": "code",
   "execution_count": 4,
   "metadata": {},
   "outputs": [
    {
     "name": "stdout",
     "output_type": "stream",
     "text": [
      " 4568 records were dropped\n",
      " 0.4568% of all records\n"
     ]
    }
   ],
   "source": [
    "## Find how many records were dropped\n",
    "print(f\" {100000 -clean_rate_df['Age'].count()} records were dropped\")\n",
    "print(f\" {4568/10000}% of all records\")"
   ]
  },
  {
   "cell_type": "code",
   "execution_count": 5,
   "metadata": {},
   "outputs": [],
   "source": [
    "## cast age as int to do math\n",
    "clean_rate_df['Age'] = clean_rate_df['Age'].astype(int)"
   ]
  },
  {
   "cell_type": "code",
   "execution_count": 6,
   "metadata": {},
   "outputs": [],
   "source": [
    "## groupby state and find avg age\n",
    "clean_rate_avg_age_df = clean_rate_df.groupby('State').mean()\n",
    "clean_rate_avg_age_df = clean_rate_avg_age_df.reset_index()"
   ]
  },
  {
   "cell_type": "code",
   "execution_count": 7,
   "metadata": {},
   "outputs": [],
   "source": [
    "## create dictionaries to jsonify and hand off to js\n",
    "clean_rate_avg_age = []\n",
    "counter = 0\n",
    "for plan in clean_rate_avg_age_df.iterrows():\n",
    "    clean_rate_avg_age.append({'State':clean_rate_avg_age_df.iloc[counter,0],'Age':clean_rate_avg_age_df.iloc[counter,-1]})\n",
    "    counter = counter +1"
   ]
  },
  {
   "cell_type": "code",
   "execution_count": 8,
   "metadata": {},
   "outputs": [
    {
     "name": "stdout",
     "output_type": "stream",
     "text": [
      "{'user': 'postgres', 'dbname': 'Health Insurance MarketPlace', 'host': '127.0.0.1', 'port': '5432', 'tty': '', 'options': '', 'sslmode': 'prefer', 'sslcompression': '0', 'krbsrvname': 'postgres', 'target_session_attrs': 'any'} \n",
      "\n",
      "PostgreSQL connection is closed\n"
     ]
    }
   ],
   "source": [
    "##pull data from postgres db\n",
    "try:\n",
    "    connection = psycopg2.connect(user = \"postgres\",\n",
    "                                  password = \"postgres\",\n",
    "                                  host = \"127.0.0.1\",\n",
    "                                  port = \"5432\",\n",
    "                                  database = \"Health Insurance MarketPlace\")\n",
    "    cursor = connection.cursor()\n",
    "    # Print PostgreSQL Connection properties\n",
    "    print ( connection.get_dsn_parameters(),\"\\n\")\n",
    "    # Print PostgreSQL version\n",
    "    \n",
    "    ##right now this points at new_healthsop 2018, it should either repeat for each year or target a combined db and add a year column\n",
    "    cursor.execute(\"SELECT * from public.new_healthshop2018\")\n",
    "    records = cursor.fetchall()\n",
    "\n",
    "    clean_rate_df = pd.DataFrame(records)\n",
    "\n",
    "\n",
    "except (Exception, psycopg2.Error) as error :\n",
    "    print (\"Error while connecting to PostgreSQL\", error)\n",
    "finally:\n",
    "    #closing database connection.\n",
    "        if(connection):\n",
    "            cursor.close()\n",
    "            connection.close()\n",
    "            print(\"PostgreSQL connection is closed\")"
   ]
  },
  {
   "cell_type": "code",
   "execution_count": 9,
   "metadata": {},
   "outputs": [
    {
     "data": {
      "text/html": [
       "<div>\n",
       "<style scoped>\n",
       "    .dataframe tbody tr th:only-of-type {\n",
       "        vertical-align: middle;\n",
       "    }\n",
       "\n",
       "    .dataframe tbody tr th {\n",
       "        vertical-align: top;\n",
       "    }\n",
       "\n",
       "    .dataframe thead th {\n",
       "        text-align: right;\n",
       "    }\n",
       "</style>\n",
       "<table border=\"1\" class=\"dataframe\">\n",
       "  <thead>\n",
       "    <tr style=\"text-align: right;\">\n",
       "      <th></th>\n",
       "      <th>State</th>\n",
       "      <th>FIPS</th>\n",
       "      <th>Metal</th>\n",
       "      <th>Issuer</th>\n",
       "      <th>Type</th>\n",
       "    </tr>\n",
       "  </thead>\n",
       "  <tbody>\n",
       "    <tr>\n",
       "      <th>0</th>\n",
       "      <td>AK</td>\n",
       "      <td>2013</td>\n",
       "      <td>Gold</td>\n",
       "      <td>Moda Health Plan, Inc.</td>\n",
       "      <td>PPO</td>\n",
       "    </tr>\n",
       "    <tr>\n",
       "      <th>1</th>\n",
       "      <td>AK</td>\n",
       "      <td>2013</td>\n",
       "      <td>Gold</td>\n",
       "      <td>Moda Health Plan, Inc.</td>\n",
       "      <td>PPO</td>\n",
       "    </tr>\n",
       "    <tr>\n",
       "      <th>2</th>\n",
       "      <td>AK</td>\n",
       "      <td>2013</td>\n",
       "      <td>Gold</td>\n",
       "      <td>Moda Health Plan, Inc.</td>\n",
       "      <td>PPO</td>\n",
       "    </tr>\n",
       "    <tr>\n",
       "      <th>3</th>\n",
       "      <td>AK</td>\n",
       "      <td>2013</td>\n",
       "      <td>Silver</td>\n",
       "      <td>Moda Health Plan, Inc.</td>\n",
       "      <td>PPO</td>\n",
       "    </tr>\n",
       "    <tr>\n",
       "      <th>4</th>\n",
       "      <td>AK</td>\n",
       "      <td>2013</td>\n",
       "      <td>Gold</td>\n",
       "      <td>Moda Health Plan, Inc.</td>\n",
       "      <td>PPO</td>\n",
       "    </tr>\n",
       "  </tbody>\n",
       "</table>\n",
       "</div>"
      ],
      "text/plain": [
       "  State  FIPS   Metal                  Issuer Type\n",
       "0    AK  2013    Gold  Moda Health Plan, Inc.  PPO\n",
       "1    AK  2013    Gold  Moda Health Plan, Inc.  PPO\n",
       "2    AK  2013    Gold  Moda Health Plan, Inc.  PPO\n",
       "3    AK  2013  Silver  Moda Health Plan, Inc.  PPO\n",
       "4    AK  2013    Gold  Moda Health Plan, Inc.  PPO"
      ]
     },
     "execution_count": 9,
     "metadata": {},
     "output_type": "execute_result"
    }
   ],
   "source": [
    "## drop unecessary columns and then label remaining columns\n",
    "healthshop_2018_df = pd.DataFrame(records)\n",
    "healthshop_2018_df = healthshop_2018_df.drop(columns= [2,5,6,7,9,10,11])\n",
    "healthshop_2018_df.columns = ['State','FIPS','Metal','Issuer','Type']\n",
    "healthshop_2018_df.head()"
   ]
  },
  {
   "cell_type": "code",
   "execution_count": 10,
   "metadata": {},
   "outputs": [],
   "source": [
    "##create groupbys to operate on\n",
    "state_groupby = healthshop_2018_df.groupby('State')\n",
    "FIPS_groupby = healthshop_2018_df.groupby('FIPS')\n",
    "state_metal_groupby = healthshop_2018_df.groupby(['Metal','State'])\n",
    "fips_metal_groupby = healthshop_2018_df.groupby(['Metal','FIPS'])\n",
    "state_issuer_groupby = healthshop_2018_df.groupby(['Issuer','State'])\n",
    "fips_issuer_groupby = healthshop_2018_df.groupby(['Issuer','FIPS'])\n",
    "state_type_groupby = healthshop_2018_df.groupby(['Type','State'])\n",
    "fips_type_groupby = healthshop_2018_df.groupby(['Type','FIPS'])"
   ]
  },
  {
   "cell_type": "code",
   "execution_count": 23,
   "metadata": {},
   "outputs": [],
   "source": [
    "#get count for each state and FIPS\n",
    "state_count = state_groupby[['FIPS']].count()\n",
    "#right now this is cast to a string because jsonify didn't like numpy results??\n",
    "state_count['FIPS'] = state_count['FIPS'].astype(str) \n",
    "state_count = state_count.reset_index(drop=False)\n",
    "state_count.columns = ['State','Count']\n",
    "\n",
    "fips_count = FIPS_groupby[['Type']].count()\n",
    "fips_count['Type'] = fips_count['Type'].astype(str)\n",
    "fips_count = fips_count.reset_index(drop=False)\n",
    "fips_count.columns = ['FIPS','Count']"
   ]
  },
  {
   "cell_type": "code",
   "execution_count": 12,
   "metadata": {},
   "outputs": [],
   "source": [
    "#get count for each metal type by state and FIPS\n",
    "state_metal_count = state_metal_groupby[['FIPS']].count()\n",
    "state_metal_count['FIPS'] = state_metal_count['FIPS'].astype(str)\n",
    "state_metal_count = state_metal_count.reset_index(drop=False)\n",
    "state_metal_count.columns = ['Metal','State','Count']\n",
    "\n",
    "fips_metal_count = fips_metal_groupby[['State']].count()\n",
    "fips_metal_count['State'] = fips_metal_count['State'].astype(str)\n",
    "fips_metal_count = fips_metal_count.reset_index(drop=False)\n",
    "fips_metal_count.columns = 'Metal','FIPS','Count'"
   ]
  },
  {
   "cell_type": "code",
   "execution_count": 21,
   "metadata": {},
   "outputs": [],
   "source": [
    "#get count for each issuer by state and FIPS\n",
    "state_issuer_count = state_issuer_groupby[['FIPS']].count()\n",
    "state_issuer_count[['FIPS']] = state_issuer_count[['FIPS']].astype(str)\n",
    "state_issuer_count = state_issuer_count.reset_index(drop=False)\n",
    "state_issuer_count.columns = ['Issuer','State','Count']\n",
    "\n",
    "fips_issuer_count = fips_issuer_groupby[['State']].count()\n",
    "fips_issuer_count[['State']] = fips_issuer_count[['State']].astype(str)\n",
    "fips_issuer_count = fips_issuer_count.reset_index(drop=False)\n",
    "fips_issuer_count.columns = ['Issuer','FIPS','Count']"
   ]
  },
  {
   "cell_type": "code",
   "execution_count": 27,
   "metadata": {},
   "outputs": [],
   "source": [
    "#get count of plan type for each state and FIPS\n",
    "state_type_count = state_type_groupby[['FIPS']].count()\n",
    "state_type_count['FIPS'] = state_type_count['FIPS'].astype(str)\n",
    "state_type_count = state_type_count.reset_index(drop=False)\n",
    "state_type_count.columns = ['Type','State','Count']\n",
    "\n",
    "fips_type_count = fips_type_groupby[['State']].count()\n",
    "fips_type_count['State'] = fips_type_count['State'].astype(str)\n",
    "fips_type_count = fips_type_count.reset_index(drop=False)\n",
    "fips_type_count.columns = ['Type','FIPS','Count']"
   ]
  },
  {
   "cell_type": "code",
   "execution_count": 15,
   "metadata": {},
   "outputs": [],
   "source": [
    "#turn dfs into dicts for jsonification\n",
    "state_count_obs = []\n",
    "counter = 0\n",
    "for plan in state_count.iterrows():\n",
    "    state_count_obs.append({'State':state_count.iloc[counter,0],'Count':state_count.iloc[counter,-1]})\n",
    "    counter = counter +1\n",
    "\n",
    "fips_count_obs = []\n",
    "counter = 0\n",
    "for plan in fips_count.iterrows():\n",
    "    fips_count_obs.append({'FIPS':fips_count.iloc[counter,0],'Count':fips_count.iloc[counter,-1]})\n",
    "    counter = counter +1\n",
    "\n",
    "state_metal_obs = []\n",
    "counter = 0\n",
    "for plan in state_metal_count.iterrows():\n",
    "    state_metal_obs.append({'State':state_metal_count.iloc[counter,1],'Metal':state_metal_count.iloc[counter,0],'Count':state_metal_count.iloc[counter,-1]})\n",
    "    counter = counter +1\n",
    "    \n",
    "fips_metal_obs = []\n",
    "counter = 0\n",
    "for plan in fips_metal_count.iterrows():\n",
    "    fips_metal_obs.append({'FIPS':fips_metal_count.iloc[counter,1],'Metal':fips_metal_count.iloc[counter,0],'Count':fips_metal_count.iloc[counter,-1]})\n",
    "    counter = counter +1\n",
    "\n",
    "state_issuer_obs = []\n",
    "counter = 0\n",
    "for plan in state_issuer_count.iterrows():\n",
    "    state_issuer_obs.append({'State':state_issuer_count.iloc[counter,1],'Count':state_issuer_count.iloc[counter,-1], 'Issuer':state_issuer_count.iloc[counter,0]})\n",
    "    counter = counter +1\n",
    "    \n",
    "fips_issuer_obs = []\n",
    "counter = 0\n",
    "for plan in fips_issuer_count.iterrows():\n",
    "    fips_issuer_obs.append({'FIPS':fips_issuer_count.iloc[counter,1],'Count':fips_issuer_count.iloc[counter,-1], 'Issuer':fips_issuer_count.iloc[counter,0]})\n",
    "    counter = counter +1\n",
    "    \n",
    "state_type_obs = []\n",
    "counter = 0\n",
    "for plan in state_type_count.iterrows():\n",
    "    state_type_obs.append({'State':state_type_count.iloc[counter,1],'Count':state_type_count.iloc[counter,-1], 'Type':state_type_count.iloc[counter,0]})\n",
    "    counter = counter +1\n",
    "    \n",
    "fips_type_obs = []\n",
    "counter = 0\n",
    "for plan in fips_type_count.iterrows():\n",
    "    fips_type_obs.append({'FIPS':fips_type_count.iloc[counter,1],'Count':fips_type_count.iloc[counter,-1], 'Type':fips_type_count.iloc[counter,0]})\n",
    "    counter = counter +1"
   ]
  },
  {
   "cell_type": "code",
   "execution_count": 18,
   "metadata": {},
   "outputs": [
    {
     "data": {
      "text/plain": [
       "[{'State': 'AK', 'Age': 42.00511247443763},\n",
       " {'State': 'AL', 'Age': 42.60516346288761},\n",
       " {'State': 'AZ', 'Age': 42.47908832783363},\n",
       " {'State': 'FL', 'Age': 42.57880722232355},\n",
       " {'State': 'GA', 'Age': 42.73806550763615},\n",
       " {'State': 'IN', 'Age': 42.45952512424075}]"
      ]
     },
     "execution_count": 18,
     "metadata": {},
     "output_type": "execute_result"
    }
   ],
   "source": [
    "clean_rate_avg_age"
   ]
  },
  {
   "cell_type": "code",
   "execution_count": 17,
   "metadata": {},
   "outputs": [
    {
     "data": {
      "text/plain": [
       "[{'State': 'AK', 'Count': 812},\n",
       " {'State': 'AL', 'Count': 402},\n",
       " {'State': 'FL', 'Count': 146},\n",
       " {'State': 'GA', 'Count': 480},\n",
       " {'State': 'IA', 'Count': 80},\n",
       " {'State': 'IL', 'Count': 2100},\n",
       " {'State': 'LA', 'Count': 320},\n",
       " {'State': 'ME', 'Count': 64},\n",
       " {'State': 'MI', 'Count': 448},\n",
       " {'State': 'MT', 'Count': 1617},\n",
       " {'State': 'ND', 'Count': 464},\n",
       " {'State': 'NH', 'Count': 60},\n",
       " {'State': 'NJ', 'Count': 210},\n",
       " {'State': 'OH', 'Count': 288},\n",
       " {'State': 'OK', 'Count': 324},\n",
       " {'State': 'PA', 'Count': 2064},\n",
       " {'State': 'SD', 'Count': 552},\n",
       " {'State': 'VA', 'Count': 322},\n",
       " {'State': 'WI', 'Count': 1338}]"
      ]
     },
     "execution_count": 17,
     "metadata": {},
     "output_type": "execute_result"
    }
   ],
   "source": [
    "state_count_obs"
   ]
  },
  {
   "cell_type": "code",
   "execution_count": null,
   "metadata": {},
   "outputs": [],
   "source": [
    "app = Flask(__name__)\n",
    "\n",
    "@app.route(\"/\")\n",
    "def welcome():\n",
    "    return 'Available routes: /avg_age, /state_count, /fips_count, /state_metal, /fips_metal, /state_issuer, /state_type, /fips_type'\n",
    "\n",
    "@app.route(\"/avg_age\")\n",
    "def avgAge():\n",
    "    return jsonify(clean_rate_avg_age)\n",
    "\n",
    "@app.route(\"/state_count\")\n",
    "def stateCount():\n",
    "    return jsonify(state_count_obs)\n",
    "\n",
    "@app.route(\"/fips_count\")\n",
    "def fipsCount():\n",
    "    return jsonify(fips_count_obs)\n",
    "\n",
    "@app.route(\"/state_metal\")\n",
    "def stateMetal():\n",
    "    return jsonify(state_metal_obs)\n",
    "\n",
    "@app.route(\"/fips_metal\")\n",
    "def fipsMetal():\n",
    "    return jsonify(fips_metal_obs)\n",
    "\n",
    "@app.route(\"/state_issuer\")\n",
    "def stateIssuer():\n",
    "    return jsonify(state_issuer_obs)\n",
    "\n",
    "@app.route(\"/fips_issuer\")\n",
    "def fipsIssuer():\n",
    "    return jsonify(fips_issuer_obs)\n",
    "\n",
    "@app.route(\"/state_type\")\n",
    "def stateType():\n",
    "    return jsonify(state_type_obs)\n",
    "\n",
    "@app.route(\"/fips_type\")\n",
    "def fipsType():\n",
    "    return jsonify(fips_type_obs)\n",
    "\n",
    "if __name__ == '__main__':\n",
    "    app.run(debug=True)\n"
   ]
  },
  {
   "cell_type": "code",
   "execution_count": null,
   "metadata": {},
   "outputs": [],
   "source": []
  }
 ],
 "metadata": {
  "kernelspec": {
   "display_name": "Python [conda env:pythondata] *",
   "language": "python",
   "name": "conda-env-pythondata-py"
  },
  "language_info": {
   "codemirror_mode": {
    "name": "ipython",
    "version": 3
   },
   "file_extension": ".py",
   "mimetype": "text/x-python",
   "name": "python",
   "nbconvert_exporter": "python",
   "pygments_lexer": "ipython3",
   "version": "3.6.8"
  }
 },
 "nbformat": 4,
 "nbformat_minor": 2
}
